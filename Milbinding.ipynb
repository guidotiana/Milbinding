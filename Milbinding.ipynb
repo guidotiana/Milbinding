{
 "cells": [
  {
   "cell_type": "markdown",
   "id": "290e49d6",
   "metadata": {},
   "source": [
    "# MILBINDING #"
   ]
  },
  {
   "cell_type": "markdown",
   "id": "4517d0d2",
   "metadata": {},
   "source": [
    "This notebook is a tutorial showing how to use the model presented in:\n",
    "\n",
    "_**Predicting the binding of small molecules to proteins through invariant representation of the molecular structure**_ - R. Beccaria, et al.\n",
    "\n",
    "\n",
    "In these two esamples we load a ligand and a pocket pdb and compute their encoded fingerprint."
   ]
  },
  {
   "cell_type": "code",
   "execution_count": 2,
   "id": "bf2b676c",
   "metadata": {},
   "outputs": [],
   "source": [
    "import warnings\n",
    "warnings.filterwarnings(\"ignore\")\n",
    "\n",
    "from utils_tutorial import Load_graph_auto_ligand, Load_graph_auto_pocket\n",
    "from utils_tutorial import Get_latent_pocket, Get_latent_ligand\n",
    "from utils_tutorial import Get_encoded_matrix_ligand,Get_encoded_matrix_pocket\n",
    "\n",
    "import seaborn as sns\n",
    "import numpy as np\n",
    "import matplotlib.pyplot as plt\n",
    "from sklearn.ensemble import RandomForestClassifier\n",
    "import pickle as cPickle"
   ]
  },
  {
   "cell_type": "code",
   "execution_count": 3,
   "id": "dbe14185",
   "metadata": {},
   "outputs": [],
   "source": [
    "# Select the path to the pdbs of the ligand and of the pocket.\n",
    "\n",
    "pdb_ligand=\"pdbs_tutorial/1RKP_ligand.pdb\"\n",
    "pdb_pocket=\"pdbs_tutorial/1RKP_pocket.pdb\""
   ]
  },
  {
   "cell_type": "code",
   "execution_count": 4,
   "id": "fc953499",
   "metadata": {},
   "outputs": [],
   "source": [
    "# Load the autoencoder for the ligand and the autoencoder for the pockets\n",
    "\n",
    "auto_graph_ligand = Load_graph_auto_ligand()\n",
    "auto_graph_pocket = Load_graph_auto_pocket()\n",
    "\n",
    "\n",
    "# Get latent vector for ligand and pocket\n",
    "\n",
    "latent_vec_ligand, atoms_ligand = Get_latent_ligand(pdb_ligand,auto_graph_ligand)\n",
    "latent_vec_pocket, atoms_pocket = Get_latent_pocket(pdb_pocket, auto_graph_pocket)\n"
   ]
  },
  {
   "cell_type": "code",
   "execution_count": 5,
   "id": "1c8754c6",
   "metadata": {},
   "outputs": [],
   "source": [
    "# Get the encoded matrixes from latent vector\n",
    "\n",
    "num_bins_pock=4      \n",
    "num_bins_lig=40      \n",
    "\n",
    "encoded_matrix_ligand, atoms_lig_mat, bins_lig_mat = Get_encoded_matrix_ligand(latent_vec_ligand, atoms_ligand, num_bins_lig)\n",
    "encoded_matrix_pocket, atoms_pock_mat, bins_pock_mat = Get_encoded_matrix_pocket(latent_vec_pocket, atoms_pocket, num_bins_pock)"
   ]
  },
  {
   "cell_type": "code",
   "execution_count": 6,
   "id": "1d087033",
   "metadata": {},
   "outputs": [
    {
     "name": "stdout",
     "output_type": "stream",
     "text": [
      "Random Forest prediction = [1]\n"
     ]
    }
   ],
   "source": [
    "# Make a Binding prediction for that ligand-pocket comples\n",
    "# 1 means they bind, 0 means they do not bind\n",
    "\n",
    "# Load Random Forest\n",
    "RF = RandomForestClassifier()\n",
    "with open(\"./datasets_and_RFs/final_random_forests_Best_DUDE_on_BindingDB_4bins_rf_val_NoRep\", \"rb\") as f:\n",
    "    RF = cPickle.load(f)\n",
    "\n",
    "# Concatenate matrix and pocket embeddings\n",
    "data_to_evaluate=np.concatenate((encoded_matrix_pocket.reshape(-1), encoded_matrix_ligand.reshape(-1))).reshape(1,-1)\n",
    "\n",
    "# Make prediction\n",
    "prediction = RF.predict(data_to_evaluate)\n",
    "\n",
    "print(f\"Random Forest prediction = {prediction}\")\n"
   ]
  },
  {
   "cell_type": "markdown",
   "id": "c3a66df6-0a44-48e8-9135-9c8e9239dab7",
   "metadata": {},
   "source": [
    "You can also change the number of bins used for the embedding matrix accordingly to the task you want to use this representation for.\n",
    "Here there is an example how to change the number of bins used in the representaiton and hot to display the embedded matrixes."
   ]
  },
  {
   "cell_type": "code",
   "execution_count": 7,
   "id": "aebf05c4",
   "metadata": {},
   "outputs": [
    {
     "data": {
      "image/png": "[encoded data removed]",
      "text/plain": [
       "<Figure size 1200x600 with 4 Axes>"
      ]
     },
     "metadata": {},
     "output_type": "display_data"
    }
   ],
   "source": [
    "import seaborn as sns\n",
    "import matplotlib.pyplot as plt\n",
    "import numpy as np\n",
    "\n",
    "num_bins=20 # you can choose between [2,4,5,10,20,40]. Default values is 40\n",
    "encoded_matrix_ligand, atoms_lig_mat, bins_lig_mat = Get_encoded_matrix_ligand(latent_vec_ligand, atoms_ligand, num_bins)\n",
    "encoded_matrix_pocket, atoms_pock_mat, bins_pock_mat = Get_encoded_matrix_pocket(latent_vec_pocket, atoms_pocket, num_bins)\n",
    "\n",
    "fig, axs = plt.subplots(1, 2, figsize=(12, 6), gridspec_kw={'width_ratios': [1, 1]})  # Create a figure with two subplots\n",
    "\n",
    "sns.heatmap(encoded_matrix_ligand, linewidth=0.5, cmap=\"crest\", square=True, ax=axs[0], cbar=False)\n",
    "axs[0].set_yticklabels(atoms_lig_mat, rotation=0, ha='right')\n",
    "axs[0].set(xticklabels=[])\n",
    "axs[0].set(xlabel=None)\n",
    "axs[0].tick_params(left=False, bottom=False)\n",
    "cbar = axs[0].figure.colorbar(axs[0].collections[0], ax=axs[0], orientation='horizontal')\n",
    "cbar.set_ticks(np.arange(int(np.min(encoded_matrix_ligand)), int(np.max(encoded_matrix_ligand))+1, 1))\n",
    "\n",
    "sns.heatmap(encoded_matrix_pocket, linewidth=0.5, cmap=\"flare\", square=True, ax=axs[1], cbar=False)\n",
    "axs[1].set_yticklabels(atoms_pock_mat, rotation=0, ha='right')\n",
    "axs[1].set(xticklabels=[])\n",
    "axs[1].set(xlabel=None)\n",
    "axs[1].tick_params(left=False, bottom=False)\n",
    "\n",
    "cbar = axs[1].figure.colorbar(axs[1].collections[0], ax=axs[1], orientation='horizontal')\n",
    "cbar.set_ticks(np.arange(int(np.min(encoded_matrix_pocket)), int(np.max(encoded_matrix_pocket))+1, 1))\n",
    "\n",
    "\n",
    "\n",
    "plt.show()\n"
   ]
  },
  {
   "cell_type": "code",
   "execution_count": null,
   "id": "24ba0f09",
   "metadata": {},
   "outputs": [],
   "source": []
  }
 ],
 "metadata": {
  "kernelspec": {
   "display_name": "Python 3 (ipykernel)",
   "language": "python",
   "name": "python3"
  },
  "language_info": {
   "codemirror_mode": {
    "name": "ipython",
    "version": 3
   },
   "file_extension": ".py",
   "mimetype": "text/x-python",
   "name": "python",
   "nbconvert_exporter": "python",
   "pygments_lexer": "ipython3",
   "version": "3.10.9"
  }
 },
 "nbformat": 4,
 "nbformat_minor": 5
}
